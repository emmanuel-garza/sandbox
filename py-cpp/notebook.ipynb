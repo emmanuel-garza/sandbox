{
 "cells": [
  {
   "cell_type": "markdown",
   "metadata": {},
   "source": [
    "# CFFI works with C code only (no C++)"
   ]
  },
  {
   "cell_type": "code",
   "execution_count": 1,
   "metadata": {},
   "outputs": [
    {
     "output_type": "stream",
     "name": "stdout",
     "text": "generating ./_test.c\n(already up-to-date)\nthe current directory is '/home/emmanuel/ownCloud/Programming/github-projects/sandbox/py-cpp'\nrunning build_ext\nbuilding '_test' extension\ngcc -pthread -B /home/emmanuel/miniconda3/compiler_compat -Wl,--sysroot=/ -Wsign-compare -DNDEBUG -g -fwrapv -O3 -Wall -Wstrict-prototypes -fPIC -I/home/emmanuel/miniconda3/include/python3.7m -c _test.c -o ./_test.o\ngcc -pthread -shared -B /home/emmanuel/miniconda3/compiler_compat -L/home/emmanuel/miniconda3/lib -Wl,-rpath=/home/emmanuel/miniconda3/lib -Wl,--no-as-needed -Wl,--sysroot=/ ./_test.o -ltest -o ./_test.cpython-37m-x86_64-linux-gnu.so -L/home/emmanuel/ownCloud/Programming/github-projects/sandbox/py-cpp/\n"
    }
   ],
   "source": [
    "from cffi import FFI\n",
    "ffibuilder = FFI()\n",
    "\n",
    "# Tell CFFI the definitions of the functions/constants/structures that will be used\n",
    "# -> Similar to the header, but may be only a subset\n",
    "ffibuilder.cdef(\"float loop_cube(int n);\")\n",
    "\n",
    "ffibuilder.set_source(\"_test\",  # name of the output C extension\n",
    "\"\"\"\n",
    "    #include \"test.h\"\n",
    "\"\"\",    \n",
    "    extra_link_args=['-L/home/emmanuel/ownCloud/Programming/github-projects/sandbox/py-cpp/'], \n",
    "    libraries=['test'])\n",
    "\n",
    "if __name__ == \"__main__\":\n",
    "    ffibuilder.compile(verbose=True)"
   ]
  },
  {
   "cell_type": "code",
   "execution_count": 14,
   "metadata": {},
   "outputs": [
    {
     "output_type": "stream",
     "name": "stdout",
     "text": "1000000000.0\nTime =  2.6835316799988504  sec\n"
    }
   ],
   "source": [
    "import time\n",
    "\n",
    "from _test.lib import loop_cube\n",
    "\n",
    "t1 = time.perf_counter()\n",
    "\n",
    "res = loop_cube(1000)\n",
    "\n",
    "t2 = time.perf_counter()\n",
    "\n",
    "print(res)\n",
    "\n",
    "print('Time = ',t2-t1,' sec')"
   ]
  },
  {
   "cell_type": "code",
   "execution_count": 13,
   "metadata": {},
   "outputs": [
    {
     "output_type": "stream",
     "name": "stdout",
     "text": "1000000000\nTime =  91.3475697679969  sec\n"
    }
   ],
   "source": [
    "n = 1000\n",
    "\n",
    "t1 = time.perf_counter()\n",
    "res = 0\n",
    "for i in range(n):\n",
    "    for j in range(n):\n",
    "        for k in range(n):\n",
    "            res += 1\n",
    "t2 = time.perf_counter()\n",
    "\n",
    "print(res)\n",
    "\n",
    "print('Time = ',t2-t1,' sec')"
   ]
  },
  {
   "cell_type": "code",
   "execution_count": null,
   "metadata": {},
   "outputs": [],
   "source": []
  }
 ],
 "metadata": {
  "language_info": {
   "codemirror_mode": {
    "name": "ipython",
    "version": 3
   },
   "file_extension": ".py",
   "mimetype": "text/x-python",
   "name": "python",
   "nbconvert_exporter": "python",
   "pygments_lexer": "ipython3",
   "version": "3.7.3-final"
  },
  "orig_nbformat": 2,
  "kernelspec": {
   "name": "python37364bitbaseconda3da214ea25fa43d9bad19d4aa933781a",
   "display_name": "Python 3.7.3 64-bit ('base': conda)"
  }
 },
 "nbformat": 4,
 "nbformat_minor": 2
}